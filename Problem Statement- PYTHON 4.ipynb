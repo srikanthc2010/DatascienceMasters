{
 "cells": [
  {
   "cell_type": "markdown",
   "metadata": {},
   "source": [
    "1.1 Write a Python Program(with class concepts) to find the area of the triangle using the below\n",
    "formula.\n",
    "\n",
    "area = (s*(s-a)*(s-b)*(s-c)) ** 0.5\n",
    "Function to take the length of the sides of triangle from user should be defined in the parent\n",
    "class and function to calculate the area should be defined in subclass."
   ]
  },
  {
   "cell_type": "code",
   "execution_count": 1,
   "metadata": {},
   "outputs": [
    {
     "name": "stdout",
     "output_type": "stream",
     "text": [
      "Enter Side a:5\n",
      "Enter Side b:6\n",
      "Enter Side c:9\n",
      "Area of Triangle: 14.142135623730951\n"
     ]
    }
   ],
   "source": [
    "import math\n",
    "class Shape:\n",
    "    def __init__(self,aSide,bSide,cSide):\n",
    "        self.a= aSide\n",
    "        self.b = bSide\n",
    "        self.c = cSide\n",
    "        \n",
    "\n",
    "class Triangle(Shape):\n",
    "    def CalculateArea(self):\n",
    "        s = (self.a+self.b+self.c)/2\n",
    "        return (s*(s-self.a)*(s-self.b)*(s-self.c)) ** 0.5\n",
    "           \n",
    "    \n",
    "a = int(input(\"Enter Side a:\"))\n",
    "b = int(input(\"Enter Side b:\"))\n",
    "c = int(input(\"Enter Side c:\"))\n",
    "\n",
    "tringleObj = Triangle(a,b,c)   \n",
    "print(\"Area of Triangle:\", tringleObj.CalculateArea())    \n",
    "   "
   ]
  },
  {
   "cell_type": "markdown",
   "metadata": {},
   "source": [
    "1.2 Write a function filter_long_words() that takes a list of words and an integer n and returns\n",
    "the list of words that are longer than n."
   ]
  },
  {
   "cell_type": "code",
   "execution_count": 3,
   "metadata": {},
   "outputs": [
    {
     "name": "stdout",
     "output_type": "stream",
     "text": [
      "Eneter n value:9\n",
      "['Kukatpally']\n"
     ]
    }
   ],
   "source": [
    "listWords = [\"Srikanth\",\"ACADGILD\",\"CHIPPA\", \"Kukatpally\", \"Hyderabad\"]\n",
    "n = int(input(\"Eneter n value:\"))\n",
    "\n",
    "def filter_long_words(lstWords,n):\n",
    "    lstWordsLongerThanN = list()\n",
    "    for word in lstWords:\n",
    "        if(len(word)>n):\n",
    "            lstWordsLongerThanN.append(word)\n",
    "    return lstWordsLongerThanN\n",
    "\n",
    "print(filter_long_words(listWords,n))"
   ]
  },
  {
   "cell_type": "markdown",
   "metadata": {},
   "source": [
    "2.1 Write a Python program using function concept that maps list of words into a list of integers\n",
    "representing the lengths of the corresponding words.\n",
    "Hint: If a list [ ab,cde,erty] is passed on to the python function output should come as [2,3,4]\n",
    "Here 2,3 and 4 are the lengths of the words in the list."
   ]
  },
  {
   "cell_type": "code",
   "execution_count": 10,
   "metadata": {},
   "outputs": [
    {
     "name": "stdout",
     "output_type": "stream",
     "text": [
      "[2, 3, 4, 8]\n"
     ]
    }
   ],
   "source": [
    "wordList = [\"ab\",\"cde\",\"erty\",\"srikanth\"]\n",
    "\n",
    "def ConverIntListRepreWords(words):\n",
    "    intsRepresList = list()\n",
    "    for wrd in words:\n",
    "        intsRepresList.append(len(wrd))\n",
    "    return intsRepresList\n",
    "\n",
    "print(ConverIntListRepreWords(wordList))"
   ]
  },
  {
   "cell_type": "markdown",
   "metadata": {},
   "source": [
    "2.2 Write a Python function which takes a character (i.e. a string of length 1) and returns True if\n",
    "it is a vowel, False otherwise."
   ]
  },
  {
   "cell_type": "code",
   "execution_count": 14,
   "metadata": {},
   "outputs": [
    {
     "name": "stdout",
     "output_type": "stream",
     "text": [
      "Enter character:h\n",
      "False\n"
     ]
    }
   ],
   "source": [
    "def IsVowel(charachter):\n",
    "    vowels = ['a','e','i','o','u']\n",
    "    if(charachter in vowels):\n",
    "        return True\n",
    "    else:\n",
    "        return False\n",
    "    \n",
    "print(IsVowel(input(\"Enter character:\")))"
   ]
  }
 ],
 "metadata": {
  "kernelspec": {
   "display_name": "Python 3",
   "language": "python",
   "name": "python3"
  },
  "language_info": {
   "codemirror_mode": {
    "name": "ipython",
    "version": 3
   },
   "file_extension": ".py",
   "mimetype": "text/x-python",
   "name": "python",
   "nbconvert_exporter": "python",
   "pygments_lexer": "ipython3",
   "version": "3.7.0"
  }
 },
 "nbformat": 4,
 "nbformat_minor": 2
}
