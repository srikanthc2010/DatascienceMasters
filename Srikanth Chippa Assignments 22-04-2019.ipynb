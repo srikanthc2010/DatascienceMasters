{
 "cells": [
  {
   "cell_type": "markdown",
   "metadata": {},
   "source": [
    "** Question 1: Calculate the Number of Words and the Number of Characters Present in a String**"
   ]
  },
  {
   "cell_type": "code",
   "execution_count": 19,
   "metadata": {},
   "outputs": [
    {
     "name": "stdout",
     "output_type": "stream",
     "text": [
      "number of characters in a string: 78\n"
     ]
    }
   ],
   "source": [
    "s = \"Calculate the Number of Words and the Number of Characters Present in a String\"\n",
    "\n",
    "#number of characters in a string\n",
    "print(\"number of characters in a string:\",len(s))"
   ]
  },
  {
   "cell_type": "code",
   "execution_count": 32,
   "metadata": {},
   "outputs": [
    {
     "name": "stdout",
     "output_type": "stream",
     "text": [
      "number of words in a string: 14\n"
     ]
    }
   ],
   "source": [
    "#number of words in a string\n",
    "wordList = s.split(\" \")\n",
    "print(\"number of words in a string:\", len(wordList))"
   ]
  },
  {
   "cell_type": "markdown",
   "metadata": {},
   "source": [
    "** Question 2:Count Number of Lowercase Characters in a String**"
   ]
  },
  {
   "cell_type": "code",
   "execution_count": 38,
   "metadata": {},
   "outputs": [
    {
     "name": "stdout",
     "output_type": "stream",
     "text": [
      "36\n"
     ]
    }
   ],
   "source": [
    "l = \"Count Number of Lowercase Characters in a String\"\n",
    "count =0\n",
    "for cha in l:\n",
    "    if(cha.islower()):\n",
    "        count +=1\n",
    "print(count)"
   ]
  },
  {
   "cell_type": "markdown",
   "metadata": {},
   "source": [
    "** Question 4: Form a New String Made of the First 2 and Last 2 characters From a Given String**"
   ]
  },
  {
   "cell_type": "code",
   "execution_count": 47,
   "metadata": {},
   "outputs": [
    {
     "name": "stdout",
     "output_type": "stream",
     "text": [
      "Srpa\n"
     ]
    }
   ],
   "source": [
    "w = \"Srikanth Chippa\"\n",
    "print(w[:2] + w[len(w)-2:])"
   ]
  },
  {
   "cell_type": "markdown",
   "metadata": {},
   "source": [
    "** Question 5: Put Even and Odd elements in a List into Two Different Lists**"
   ]
  },
  {
   "cell_type": "code",
   "execution_count": 49,
   "metadata": {},
   "outputs": [
    {
     "name": "stdout",
     "output_type": "stream",
     "text": [
      "Even list: [2, 8, 4, 6, 66]\n",
      "Odd list: [5, 7, 1, 3, 99]\n"
     ]
    }
   ],
   "source": [
    "listitems = [2,5,7,8,4,6,1,3,99,66]\n",
    "\n",
    "#Even elements list\n",
    "even = list()\n",
    "odd = list()\n",
    "\n",
    "for e in listitems:\n",
    "    if(e%2 == 0):\n",
    "        even.append(e)\n",
    "    else:\n",
    "        odd.append(e)\n",
    "        \n",
    "print(\"Even list:\", even)\n",
    "print(\"Odd list:\", odd)\n",
    "    "
   ]
  },
  {
   "cell_type": "markdown",
   "metadata": {},
   "source": [
    "* Question 6: Find the Cumulative Sum of a List where the ith Element is the Sum of the i Elements From The Original List"
   ]
  },
  {
   "cell_type": "code",
   "execution_count": 50,
   "metadata": {},
   "outputs": [
    {
     "name": "stdout",
     "output_type": "stream",
     "text": [
      "[2, 6, 12, 19, 27, 36, 69, 135]\n"
     ]
    }
   ],
   "source": [
    "y = [2,4,6,7,8,9 ,33, 66]\n",
    "\n",
    "def CumulativSum(y):\n",
    "    cummSum = []\n",
    "    sumVal = 0\n",
    "    for el in y:\n",
    "        sumVal +=el\n",
    "        cummSum.append(sumVal)\n",
    "    return cummSum\n",
    "\n",
    "print(CumulativSum(y))\n",
    "        "
   ]
  },
  {
   "cell_type": "markdown",
   "metadata": {},
   "source": [
    "** Question 7: Generate Random Numbers from 1 to 20 and Append Them to the List**"
   ]
  },
  {
   "cell_type": "code",
   "execution_count": 56,
   "metadata": {},
   "outputs": [
    {
     "name": "stdout",
     "output_type": "stream",
     "text": [
      "Random numbers from 1 to 20: [9, 1, 13, 17, 18, 14, 7, 10, 11, 12, 10, 16, 15, 14, 18, 8, 16, 4, 18, 19]\n"
     ]
    }
   ],
   "source": [
    "import random\n",
    "\n",
    "ranList = []\n",
    "for ran in range(20):\n",
    "    ranList.append(random.randrange(1,20))\n",
    "print(\"Random numbers from 1 to 20:\",ranList)"
   ]
  },
  {
   "cell_type": "markdown",
   "metadata": {},
   "source": [
    "** Question 8: Read a List of Words and Return the Length of the Longest One**"
   ]
  },
  {
   "cell_type": "code",
   "execution_count": 64,
   "metadata": {},
   "outputs": [
    {
     "name": "stdout",
     "output_type": "stream",
     "text": [
      "Longest word 'Longest' length: 7\n"
     ]
    }
   ],
   "source": [
    "w = \"Read a List of Words and Return the Length of the Longest One\"\n",
    "wordlist = w.split(\" \")\n",
    "longest = 0\n",
    "\n",
    "for word in wordlist:\n",
    "    if(len(word) > longest):\n",
    "        longest = len(word)\n",
    "        logestword = word\n",
    "print(\"Longest word '\"'{}'\"' length:\".format(logestword),longest)\n",
    "        \n",
    "    "
   ]
  }
 ],
 "metadata": {
  "kernelspec": {
   "display_name": "Python 3",
   "language": "python",
   "name": "python3"
  },
  "language_info": {
   "codemirror_mode": {
    "name": "ipython",
    "version": 3
   },
   "file_extension": ".py",
   "mimetype": "text/x-python",
   "name": "python",
   "nbconvert_exporter": "python",
   "pygments_lexer": "ipython3",
   "version": "3.7.0"
  }
 },
 "nbformat": 4,
 "nbformat_minor": 2
}
