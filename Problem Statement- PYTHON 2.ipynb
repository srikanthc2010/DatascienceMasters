{
 "cells": [
  {
   "cell_type": "markdown",
   "metadata": {},
   "source": [
    "1.Write a program which accepts a sequence of comma-separated numbers from console and\n",
    "generate a list."
   ]
  },
  {
   "cell_type": "code",
   "execution_count": 2,
   "metadata": {},
   "outputs": [
    {
     "name": "stdout",
     "output_type": "stream",
     "text": [
      "Enter comma separated numbers:45,25,25,63\n"
     ]
    }
   ],
   "source": [
    "commaSeparatedNumber = input(\"Enter comma separated numbers:\")"
   ]
  },
  {
   "cell_type": "code",
   "execution_count": 3,
   "metadata": {
    "scrolled": true
   },
   "outputs": [
    {
     "name": "stdout",
     "output_type": "stream",
     "text": [
      "['45', '25', '25', '63']\n"
     ]
    }
   ],
   "source": [
    "print(commaSeparatedNumber.split(','))"
   ]
  },
  {
   "cell_type": "markdown",
   "metadata": {},
   "source": [
    "2.Create the below pattern using nested for loop in Python."
   ]
  },
  {
   "cell_type": "markdown",
   "metadata": {},
   "source": [
    "\n",
    "*\n",
    "* *\n",
    "* * *\n",
    "* * * *\n",
    "* * * * *\n",
    "* * * *\n",
    "* * *\n",
    "* *\n",
    "*\n"
   ]
  },
  {
   "cell_type": "code",
   "execution_count": 90,
   "metadata": {},
   "outputs": [
    {
     "name": "stdout",
     "output_type": "stream",
     "text": [
      "*\n",
      "**\n",
      "***\n",
      "****\n",
      "*****\n",
      "****\n",
      "***\n",
      "**\n",
      "*\n",
      "\n"
     ]
    }
   ],
   "source": [
    "for i in range(0,5):\n",
    "    for j in range(0,i+1):\n",
    "        print(\"*\",end=\"\")\n",
    "    print()\n",
    "for k in range(5,0,-1):\n",
    "    for l in range(k-1,0,-1):\n",
    "        print(\"*\",end=\"\")\n",
    "    print()   \n",
    "       \n",
    "    "
   ]
  },
  {
   "cell_type": "markdown",
   "metadata": {},
   "source": [
    "3.Write a Python program to reverse a word after accepting the input from the user."
   ]
  },
  {
   "cell_type": "code",
   "execution_count": 99,
   "metadata": {},
   "outputs": [
    {
     "name": "stdout",
     "output_type": "stream",
     "text": [
      "Enter word which  you want reverse:AcadGild\n",
      "dliGdacA\n",
      "dliGdacA\n"
     ]
    }
   ],
   "source": [
    "word = input(\"Enter word which  you want reverse:\")\n",
    "print(word[::-1])\n",
    "\n",
    "#with out using redymade reverse\n",
    "reversStr =\"\"\n",
    "index = len(word)\n",
    "for c in word:\n",
    "    reversStr += word[index-1]\n",
    "    index = index -1\n",
    "print(reversStr)\n",
    "\n",
    "    \n",
    "    "
   ]
  },
  {
   "cell_type": "markdown",
   "metadata": {},
   "source": [
    "4.Write a Python Program to print the given string in the format specified in the\n",
    "sample output.\n",
    "WE, THE PEOPLE OF INDIA, having solemnly resolved to constitute India into a SOVEREIGN,\n",
    "SOCIALIST, SECULAR, DEMOCRATIC REPUBLIC and to secure to all its citizens"
   ]
  },
  {
   "cell_type": "code",
   "execution_count": 4,
   "metadata": {},
   "outputs": [
    {
     "name": "stdout",
     "output_type": "stream",
     "text": [
      "WE,THE PEOPLE OF INDIA,\n",
      "having solemnly resolved to constitute India into a SOVEREIGN,!\n",
      "SOCIALIST, SECULAR, DEMOCRATIC\n",
      "REPUBLIC and to secure to all its citizens\n"
     ]
    }
   ],
   "source": [
    "formatString = \"WE,THE PEOPLE OF INDIA,{}having solemnly resolved to constitute India into a SOVEREIGN,{}{}SOCIALIST, SECULAR, DEMOCRATIC{}REPUBLIC and to secure to all its citizens\"\n",
    "print(formatString.format('\\n',\"!\",\"\\n\",\"\\n\"))"
   ]
  }
 ],
 "metadata": {
  "kernelspec": {
   "display_name": "Python 3",
   "language": "python",
   "name": "python3"
  },
  "language_info": {
   "codemirror_mode": {
    "name": "ipython",
    "version": 3
   },
   "file_extension": ".py",
   "mimetype": "text/x-python",
   "name": "python",
   "nbconvert_exporter": "python",
   "pygments_lexer": "ipython3",
   "version": "3.7.0"
  }
 },
 "nbformat": 4,
 "nbformat_minor": 2
}
