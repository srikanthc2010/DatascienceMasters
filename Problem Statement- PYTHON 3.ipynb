{
 "cells": [
  {
   "cell_type": "markdown",
   "metadata": {},
   "source": [
    "1.1. Write a Python Program to implement your own myreduce() function which works exactly\n",
    "like Python's built-in function reduce()"
   ]
  },
  {
   "cell_type": "code",
   "execution_count": 2,
   "metadata": {},
   "outputs": [
    {
     "name": "stdout",
     "output_type": "stream",
     "text": [
      "34\n"
     ]
    }
   ],
   "source": [
    "#Using  Python's built-in function reduce()\n",
    "import functools\n",
    "lst = [1,5,16,9,3]\n",
    "def add(x,y):\n",
    "    return x+y\n",
    "sumofEles = functools.reduce(add, lst)\n",
    "\n",
    "print(sumofEles)"
   ]
  },
  {
   "cell_type": "code",
   "execution_count": 3,
   "metadata": {},
   "outputs": [
    {
     "name": "stdout",
     "output_type": "stream",
     "text": [
      "34\n"
     ]
    }
   ],
   "source": [
    "#Usinng my own reduce method.\n",
    "def myreduce(func, sequenceList):\n",
    "    value = 0\n",
    "    for i in sequenceList:\n",
    "        value = func(value,i)     \n",
    "    return value\n",
    "\n",
    "sumofEles = myreduce(add, lst)\n",
    "print(sumofEles)"
   ]
  },
  {
   "cell_type": "markdown",
   "metadata": {},
   "source": [
    "1.2 Write a Python program to implement your own myfilter() function which works exactly\n",
    "like Python's built-in function filter()"
   ]
  },
  {
   "cell_type": "code",
   "execution_count": 4,
   "metadata": {},
   "outputs": [
    {
     "name": "stdout",
     "output_type": "stream",
     "text": [
      "['e', 'e', 'i']\n"
     ]
    }
   ],
   "source": [
    "#function that filters vowels using Python's built-in function filter()\n",
    "\n",
    "sequence = ['g', 'e', 'e', 'j', 'k', 's', 'p', 'r','i'] \n",
    "\n",
    "def filterVowels(letter):\n",
    "    vowelletters = ['a','e','i','o','u']\n",
    "    if(letter in vowelletters):\n",
    "        return True\n",
    "    else:\n",
    "        return False\n",
    "    \n",
    "vowelslistFilterd = filter(filterVowels, sequence)\n",
    "\n",
    "vowlLst = [x for x in vowelslistFilterd]\n",
    "print(vowlLst)"
   ]
  },
  {
   "cell_type": "code",
   "execution_count": 5,
   "metadata": {},
   "outputs": [
    {
     "name": "stdout",
     "output_type": "stream",
     "text": [
      "['e', 'e', 'i']\n"
     ]
    }
   ],
   "source": [
    "#function that filters vowels using Python's my ownn myfilter()\n",
    "\n",
    "def myfilter(fuc, seqList):\n",
    "    filteredList = list()\n",
    "    for l in seqList:\n",
    "        if(fuc(l)):\n",
    "            filteredList.append(l)\n",
    "    return filteredList\n",
    "\n",
    "print(myfilter(filterVowels,sequence))"
   ]
  },
  {
   "cell_type": "markdown",
   "metadata": {},
   "source": [
    "2.Implement List comprehensions to produce the following lists."
   ]
  },
  {
   "cell_type": "code",
   "execution_count": 13,
   "metadata": {},
   "outputs": [
    {
     "name": "stdout",
     "output_type": "stream",
     "text": [
      "#1 ['A', 'C', 'A', 'D', 'G', 'I', 'L', 'D']\n",
      "#2 ['x', 'xx', 'xxx', 'xxxx', 'y', 'yy', 'yyy', 'yyyy', 'z', 'zz', 'zzz', 'zzzz']\n",
      "#3 ['x', 'y', 'z', 'xx', 'yy', 'zz', 'xxx', 'yyy', 'zzz', 'xxxx', 'yyyy', 'zzzz']\n",
      "#4 [[2], [3], [4], [3], [4], [5], [4], [5], [6]]\n",
      "#5 [[2, 3, 4, 5], [3, 4, 5, 6], [4, 5, 6, 7], [5, 6, 7, 8]]\n",
      "#6 [(1, 1), (2, 1), (3, 1), (1, 2), (2, 2), (3, 2), (1, 3), (2, 3), (3, 3)]\n"
     ]
    }
   ],
   "source": [
    "##### 1. ['A', 'C', 'A', 'D', 'G', 'I', ’L’, ‘ D’]\n",
    "\n",
    "text = \"ACADGILD\"\n",
    "list1 = [x for x in text]\n",
    "print(\"#1\",list1)\n",
    "\n",
    "#2. ['x', 'xx', 'xxx', 'xxxx', 'y', 'yy', 'yyy', 'yyyy', 'z', 'zz', 'zzz', 'zzzz']\n",
    "textList = ['x','y','z']\n",
    "list2 = [let*count for let in textList for count in range(1,5)]\n",
    "print(\"#2\",list2)\n",
    "\n",
    "#3. ['x', 'y', 'z', 'xx', 'yy', 'zz', 'xxx', 'yyy', 'zzz', 'xxxx', 'yyyy', 'zzzz']\n",
    "text2 = \"xyz\"\n",
    "list3 = [l*num for num in range(1,5) for l in text2]\n",
    "print(\"#3\",list3)\n",
    "\n",
    "#4 [[2], [3], [4], [3], [4], [5], [4], [5], [6]] \n",
    "numList = [2,3,4]\n",
    "list4 = [[num+i]  for num in numList for i in range(0,3)]\n",
    "print(\"#4\",list4)\n",
    "\n",
    "#5 [[2, 3, 4, 5], [3, 4, 5, 6], [4, 5, 6, 7], [5, 6, 7, 8]]\n",
    "numList1 = [2,3,4,5]\n",
    "list4 = [[i+num1  for i in numList1] for num1 in range(0,4)]\n",
    "print(\"#5\",list4)\n",
    "\n",
    "#6 [(1, 1), (2, 1), (3, 1), (1, 2), (2, 2), (3, 2), (1, 3), (2, 3), (3, 3)]\n",
    "numLst = [1,2,3]\n",
    "list5 = [(a,b) for b in range(1,4) for a in numLst ]\n",
    "print(\"#6\",list5)"
   ]
  },
  {
   "cell_type": "markdown",
   "metadata": {},
   "source": [
    "3. Implement a function longestWord() that takes a list of words and returns the longest one."
   ]
  },
  {
   "cell_type": "code",
   "execution_count": 14,
   "metadata": {},
   "outputs": [
    {
     "name": "stdout",
     "output_type": "stream",
     "text": [
      "Enter word list:\"srikanth\",\"Chippa\"\n",
      "Return Longest word using reduce method: \"srikanth\"\n",
      "Return Longest word with out using reduce method: \"srikanth\"\n"
     ]
    }
   ],
   "source": [
    "import functools\n",
    "wordList = input(\"Enter word list:\").split(',')\n",
    "\n",
    "\n",
    "def loggestWord(wordList):\n",
    "    return functools.reduce((lambda x,y:y if len(y) > len (x) else x), wordList)\n",
    "\n",
    "print(\"Return Longest word using reduce method:\",loggestWord(wordList))\n",
    "\n",
    "\n",
    "def loggestWordWithOutUsingReduce(wordList):    \n",
    "    longestword =\"\"\n",
    "    for word in wordList:\n",
    "        if(len(word) > len(longestword)):            \n",
    "            longestword = word        \n",
    "    return longestword\n",
    "\n",
    "print(\"Return Longest word with out using reduce method:\",loggestWordWithOutUsingReduce(wordList))\n",
    "    "
   ]
  },
  {
   "cell_type": "code",
   "execution_count": null,
   "metadata": {},
   "outputs": [],
   "source": []
  }
 ],
 "metadata": {
  "kernelspec": {
   "display_name": "Python 3",
   "language": "python",
   "name": "python3"
  },
  "language_info": {
   "codemirror_mode": {
    "name": "ipython",
    "version": 3
   },
   "file_extension": ".py",
   "mimetype": "text/x-python",
   "name": "python",
   "nbconvert_exporter": "python",
   "pygments_lexer": "ipython3",
   "version": "3.7.0"
  }
 },
 "nbformat": 4,
 "nbformat_minor": 2
}
